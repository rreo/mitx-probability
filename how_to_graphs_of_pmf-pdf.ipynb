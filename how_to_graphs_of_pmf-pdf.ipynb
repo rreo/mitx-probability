{
 "cells": [
  {
   "cell_type": "code",
   "execution_count": 104,
   "metadata": {},
   "outputs": [],
   "source": [
    "import matplotlib as mpl\n",
    "import matplotlib.pyplot as plt\n",
    "import numpy as np\n",
    "import math"
   ]
  },
  {
   "cell_type": "code",
   "execution_count": null,
   "metadata": {},
   "outputs": [],
   "source": [
    "x = np.linspace(0,2,100)\n",
    "fig, ax = plt.subplots()\n",
    "\n",
    "def plotter(ax,x,y,param_dict={}):\n",
    "    return ax.plot(x,y,**param_dict)\n",
    "plotter(ax,x,x,{'label':'linear'})\n",
    "plotter(ax,x,x**2,{'label':'quadratic'})\n",
    "plotter(ax,x,x**3,{'label':'cubic'})\n",
    "ax.set_ylabel('Y LABEL HERE')\n",
    "ax.set_xlabel('X LABEL HERE')\n",
    "ax.set_title('TITLE HERE')\n",
    "ax.legend()\n"
   ]
  },
  {
   "cell_type": "markdown",
   "metadata": {},
   "source": [
    "# PMF"
   ]
  },
  {
   "cell_type": "code",
   "execution_count": 116,
   "metadata": {},
   "outputs": [
    {
     "name": "stdout",
     "output_type": "stream",
     "text": [
      "Expectation E[X]: 3.5\n",
      "Variance var(X): 2.92\n",
      "Standard deviation Std(X): 1.41\n"
     ]
    },
    {
     "data": {
      "text/plain": [
       "[<matplotlib.lines.Line2D at 0x25c7ad67ac0>]"
      ]
     },
     "execution_count": 116,
     "metadata": {},
     "output_type": "execute_result"
    },
    {
     "data": {
      "image/png": "[encoded data removed]",
      "text/plain": [
       "<Figure size 432x288 with 1 Axes>"
      ]
     },
     "metadata": {
      "needs_background": "light"
     },
     "output_type": "display_data"
    }
   ],
   "source": [
    "X_PMF = {1:1/6,2:1/6,3:1/6,4:1/6,5:1/6,6:1/6}\n",
    "\n",
    "x = list(X_PMF.keys())\n",
    "y = [X_PMF[key] for key in X_PMF.keys()]\n",
    "\n",
    "expectations = sum([a*b for a,b in zip(x,y)])\n",
    "variance = sum([(a**2)*b for a,b in zip(x,y)]) - expectations**2\n",
    "std = math.sqrt(2)\n",
    "\n",
    "fig,ax = plt.subplots()\n",
    "ax.stem(x,y)\n",
    "ax.axvline(expectations, color='k', linestyle='dashed',linewidth=1)\n",
    "\n",
    "# ax.text(0.5,-0.2,f'E[X]:{expectations}')\n",
    "# ax.text(0.5,-0.4,f'var(X):{variance}')\n",
    "ax.set_ylim(bottom=0,top=1)\n",
    "ax.set_title(f'PMF')\n",
    "\n",
    "print(f'Expectation E[X]: {expectations:.3}')\n",
    "print(f'Variance var(X): {variance:.3}')\n",
    "print(f'Standard deviation Std(X): {std:.3}')\n",
    "\n",
    "cdf = np.cumsum(y)\n",
    "ax.plot(x,cdf,'r--',drawstyle='steps-post')"
   ]
  },
  {
   "cell_type": "markdown",
   "metadata": {},
   "source": [
    "# MIXED\n"
   ]
  },
  {
   "cell_type": "code",
   "execution_count": 152,
   "metadata": {},
   "outputs": [
    {
     "name": "stdout",
     "output_type": "stream",
     "text": [
      "Expectation E[X]: 25.0\n",
      "Variance var(X): -5.91e+02\n",
      "Standard deviation Std(X): 1.41\n"
     ]
    },
    {
     "data": {
      "image/png": "[encoded data removed]",
      "text/plain": [
       "<Figure size 432x288 with 1 Axes>"
      ]
     },
     "metadata": {
      "needs_background": "light"
     },
     "output_type": "display_data"
    }
   ],
   "source": [
    "X_PDF = {(0,2):1/2,1:1/2}\n",
    "\n",
    "x = np.linspace(0,2)\n",
    "y = [X_PDF[(0,2)]]*50\n",
    "\n",
    "expectations = sum([a*b for a,b in zip(x,y)])\n",
    "variance = sum([(a**2)*b for a,b in zip(x,y)]) - expectations**2\n",
    "std = math.sqrt(2)\n",
    "\n",
    "\n",
    "fig,ax = plt.subplots()\n",
    "ax.plot(x,y)\n",
    "ax.set_title('PDF')\n",
    "ax.set_xlabel(r'x')\n",
    "ax.set_ylabel(r'$f_X(x)$')\n",
    "ax.set_ylim(bottom=0,top=1)\n",
    "ax.set_xlim(left=0,right=3)\n",
    "\n",
    "cdf = x * X_PDF[(0,2)]\n",
    "ax.plot(x,cdf,'r--',)\n",
    "\n",
    "print(f'Expectation E[X]: {expectations:.3}')\n",
    "print(f'Variance var(X): {variance:.3}')\n",
    "print(f'Standard deviation Std(X): {std:.3}')\n"
   ]
  },
  {
   "cell_type": "markdown",
   "metadata": {},
   "source": [
    "- ~~How to draw PMF (with exp, var, std)~~\n",
    "- ~~How to draw PMF > CDF~~\n",
    "- How to draw PDF\n",
    "- How to draw PDF -> CDF\n",
    "- How to draw Mixed -> CDF\n",
    "- Conditional PMF\n",
    "- Conditional PDF\n",
    "- Joint PMF/ PDF\n",
    "- Derived PDF (ex: Y=2X, Y=X^2)"
   ]
  }
 ],
 "metadata": {
  "interpreter": {
   "hash": "8ed9478c25d7972adca482e8c9de334af2ff7e5493e7314663dddff0ea7cd19b"
  },
  "kernelspec": {
   "display_name": "Python 3.10.0 ('py310')",
   "language": "python",
   "name": "python3"
  },
  "language_info": {
   "codemirror_mode": {
    "name": "ipython",
    "version": 3
   },
   "file_extension": ".py",
   "mimetype": "text/x-python",
   "name": "python",
   "nbconvert_exporter": "python",
   "pygments_lexer": "ipython3",
   "version": "3.10.0"
  },
  "orig_nbformat": 4
 },
 "nbformat": 4,
 "nbformat_minor": 2
}
